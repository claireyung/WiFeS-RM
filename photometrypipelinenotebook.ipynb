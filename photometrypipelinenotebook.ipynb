{
 "cells": [
  {
   "cell_type": "markdown",
   "metadata": {},
   "source": [
    "# Photometry modification\n",
    "\n",
    "Because the photometry format from LCO is different to that of DES, we needed to modify the pipelines to accept the right data. For MakeLC this wasn't too bad - just needed to add some parameters to the pd.read_csv command. For calibSpec this was more difficult as there were some issues with directly using the .csv file in the np.loadtxt command. It complained about the headers, and the commented lines above in the .csv file, and also required the photometry to be sorted by filter. To keep as much of the working OzDES code as possible I decided to make a little separate pipeline as an add-on to the stitching pipeline, which makes some small format modifications to the photometry and outputs a .dat file. This means the original np.loadtxt structure can be used in CalibSpec, except for a few header name changes."
   ]
  },
  {
   "cell_type": "code",
   "execution_count": 17,
   "metadata": {},
   "outputs": [],
   "source": [
    "from astropy.io import ascii\n",
    "from astropy.table import Table\n",
    "import numpy as np"
   ]
  },
  {
   "cell_type": "code",
   "execution_count": 18,
   "metadata": {},
   "outputs": [],
   "source": [
    "data2 = ascii.read('Swope_LC.csv')"
   ]
  },
  {
   "cell_type": "code",
   "execution_count": 19,
   "metadata": {},
   "outputs": [
    {
     "data": {
      "text/html": [
       "&lt;Table length=113&gt;\n",
       "<table id=\"table2346627259920\" class=\"table-striped table-bordered table-condensed\">\n",
       "<thead><tr><th>VARLIST:</th><th>MJD</th><th>FLT</th><th>FLUXCAL</th><th>FLUXCALERR</th><th>MAG</th><th>MAGERR</th><th>TELESCOPE</th><th>INSTRUMENT</th></tr></thead>\n",
       "<thead><tr><th>str4</th><th>float64</th><th>str1</th><th>float64</th><th>float64</th><th>float64</th><th>float64</th><th>str7</th><th>str12</th></tr></thead>\n",
       "<tr><td>OBS:</td><td>58573.29</td><td>g</td><td>20892.961</td><td>0.0</td><td>16.7</td><td>0.0</td><td>ASAS-SN</td><td>Paczynski</td></tr>\n",
       "<tr><td>OBS:</td><td>58577.397</td><td>r</td><td>47895.154</td><td>215.384</td><td>15.799</td><td>0.005</td><td>Swope</td><td>Direct/4Kx4K</td></tr>\n",
       "<tr><td>OBS:</td><td>58577.411</td><td>V</td><td>10285.181</td><td>63.513</td><td>17.469</td><td>0.007</td><td>Swope</td><td>Direct/4Kx4K</td></tr>\n",
       "<tr><td>OBS:</td><td>58577.403</td><td>u</td><td>17379.705</td><td>108.113</td><td>16.9</td><td>0.007</td><td>Swope</td><td>Direct/4Kx4K</td></tr>\n",
       "<tr><td>OBS:</td><td>58577.413</td><td>B</td><td>45702.43</td><td>205.48</td><td>15.85</td><td>0.005</td><td>Swope</td><td>Direct/4Kx4K</td></tr>\n",
       "<tr><td>OBS:</td><td>58577.401</td><td>g</td><td>40011.105</td><td>188.291</td><td>15.995</td><td>0.005</td><td>Swope</td><td>Direct/4Kx4K</td></tr>\n",
       "<tr><td>OBS:</td><td>58577.399</td><td>i</td><td>50497.59</td><td>331.017</td><td>15.742</td><td>0.007</td><td>Swope</td><td>Direct/4Kx4K</td></tr>\n",
       "<tr><td>OBS:</td><td>58578.395</td><td>B</td><td>44756.529</td><td>164.516</td><td>15.873</td><td>0.004</td><td>Swope</td><td>Direct/4Kx4K</td></tr>\n",
       "<tr><td>OBS:</td><td>58578.384</td><td>g</td><td>39858.95</td><td>155.829</td><td>15.999</td><td>0.004</td><td>Swope</td><td>Direct/4Kx4K</td></tr>\n",
       "<tr><td>OBS:</td><td>58578.385</td><td>u</td><td>17057.803</td><td>94.913</td><td>16.92</td><td>0.006</td><td>Swope</td><td>Direct/4Kx4K</td></tr>\n",
       "<tr><td>...</td><td>...</td><td>...</td><td>...</td><td>...</td><td>...</td><td>...</td><td>...</td><td>...</td></tr>\n",
       "<tr><td>OBS:</td><td>58635.265</td><td>V</td><td>3570.452</td><td>86.367</td><td>18.618</td><td>0.026</td><td>Swope</td><td>Direct/4Kx4K</td></tr>\n",
       "<tr><td>OBS:</td><td>58635.271</td><td>B</td><td>842.829</td><td>90.139</td><td>20.186</td><td>0.116</td><td>Swope</td><td>Direct/4Kx4K</td></tr>\n",
       "<tr><td>OBS:</td><td>58635.251</td><td>g</td><td>2164.283</td><td>62.728</td><td>19.162</td><td>0.031</td><td>Swope</td><td>Direct/4Kx4K</td></tr>\n",
       "<tr><td>OBS:</td><td>58635.244</td><td>i</td><td>7418.419</td><td>307.706</td><td>17.824</td><td>0.045</td><td>Swope</td><td>Direct/4Kx4K</td></tr>\n",
       "<tr><td>OBS:</td><td>58635.232</td><td>r</td><td>6454.204</td><td>156.103</td><td>17.975</td><td>0.026</td><td>Swope</td><td>Direct/4Kx4K</td></tr>\n",
       "<tr><td>OBS:</td><td>58635.238</td><td>r</td><td>6994.849</td><td>77.485</td><td>17.888</td><td>0.012</td><td>Swope</td><td>Direct/4Kx4K</td></tr>\n",
       "<tr><td>OBS:</td><td>58636.248</td><td>r</td><td>7748.072</td><td>75.559</td><td>17.777</td><td>0.011</td><td>Swope</td><td>Direct/4Kx4K</td></tr>\n",
       "<tr><td>OBS:</td><td>58636.256</td><td>i</td><td>10638.171</td><td>75.818</td><td>17.433</td><td>0.008</td><td>Swope</td><td>Direct/4Kx4K</td></tr>\n",
       "<tr><td>OBS:</td><td>58636.264</td><td>g</td><td>2036.909</td><td>45.399</td><td>19.228</td><td>0.024</td><td>Swope</td><td>Direct/4Kx4K</td></tr>\n",
       "<tr><td>OBS:</td><td>58636.279</td><td>V</td><td>4047.744</td><td>58.75</td><td>18.482</td><td>0.016</td><td>Swope</td><td>Direct/4Kx4K</td></tr>\n",
       "</table>"
      ],
      "text/plain": [
       "<Table length=113>\n",
       "VARLIST:    MJD    FLT   FLUXCAL  ...   MAG    MAGERR TELESCOPE  INSTRUMENT \n",
       "  str4    float64  str1  float64  ... float64 float64    str7      str12    \n",
       "-------- --------- ---- --------- ... ------- ------- --------- ------------\n",
       "    OBS:  58573.29    g 20892.961 ...    16.7     0.0   ASAS-SN    Paczynski\n",
       "    OBS: 58577.397    r 47895.154 ...  15.799   0.005     Swope Direct/4Kx4K\n",
       "    OBS: 58577.411    V 10285.181 ...  17.469   0.007     Swope Direct/4Kx4K\n",
       "    OBS: 58577.403    u 17379.705 ...    16.9   0.007     Swope Direct/4Kx4K\n",
       "    OBS: 58577.413    B  45702.43 ...   15.85   0.005     Swope Direct/4Kx4K\n",
       "    OBS: 58577.401    g 40011.105 ...  15.995   0.005     Swope Direct/4Kx4K\n",
       "    OBS: 58577.399    i  50497.59 ...  15.742   0.007     Swope Direct/4Kx4K\n",
       "    OBS: 58578.395    B 44756.529 ...  15.873   0.004     Swope Direct/4Kx4K\n",
       "    OBS: 58578.384    g  39858.95 ...  15.999   0.004     Swope Direct/4Kx4K\n",
       "    OBS: 58578.385    u 17057.803 ...   16.92   0.006     Swope Direct/4Kx4K\n",
       "     ...       ...  ...       ... ...     ...     ...       ...          ...\n",
       "    OBS: 58635.265    V  3570.452 ...  18.618   0.026     Swope Direct/4Kx4K\n",
       "    OBS: 58635.271    B   842.829 ...  20.186   0.116     Swope Direct/4Kx4K\n",
       "    OBS: 58635.251    g  2164.283 ...  19.162   0.031     Swope Direct/4Kx4K\n",
       "    OBS: 58635.244    i  7418.419 ...  17.824   0.045     Swope Direct/4Kx4K\n",
       "    OBS: 58635.232    r  6454.204 ...  17.975   0.026     Swope Direct/4Kx4K\n",
       "    OBS: 58635.238    r  6994.849 ...  17.888   0.012     Swope Direct/4Kx4K\n",
       "    OBS: 58636.248    r  7748.072 ...  17.777   0.011     Swope Direct/4Kx4K\n",
       "    OBS: 58636.256    i 10638.171 ...  17.433   0.008     Swope Direct/4Kx4K\n",
       "    OBS: 58636.264    g  2036.909 ...  19.228   0.024     Swope Direct/4Kx4K\n",
       "    OBS: 58636.279    V  4047.744 ...  18.482   0.016     Swope Direct/4Kx4K"
      ]
     },
     "execution_count": 19,
     "metadata": {},
     "output_type": "execute_result"
    }
   ],
   "source": [
    "data2.sort('FLT') #sorted by filter\n",
    "data2"
   ]
  },
  {
   "cell_type": "code",
   "execution_count": 22,
   "metadata": {},
   "outputs": [],
   "source": [
    "ascii.write(data2, '20190401_lc12.dat', format='commented_header') #header commented"
   ]
  },
  {
   "cell_type": "code",
   "execution_count": 23,
   "metadata": {},
   "outputs": [],
   "source": [
    "photo = np.loadtxt('20190401_lc12.dat', dtype={'names':('nothing1','Date', 'Band', 'nothing2','nothing3', 'Mag', 'Mag_err','nothing4', 'nothing5'),\n",
    "                                   'formats':('|U4', np.float, '|U16', np.float, np.float, np.float, np.float, '|U7', '|U12')}, skiprows=1) #'|S15'\n"
   ]
  },
  {
   "cell_type": "code",
   "execution_count": 9,
   "metadata": {},
   "outputs": [],
   "source": [
    "#yay no problems loading."
   ]
  },
  {
   "cell_type": "code",
   "execution_count": null,
   "metadata": {},
   "outputs": [],
   "source": []
  }
 ],
 "metadata": {
  "kernelspec": {
   "display_name": "Python 3",
   "language": "python",
   "name": "python3"
  },
  "language_info": {
   "codemirror_mode": {
    "name": "ipython",
    "version": 3
   },
   "file_extension": ".py",
   "mimetype": "text/x-python",
   "name": "python",
   "nbconvert_exporter": "python",
   "pygments_lexer": "ipython3",
   "version": "3.6.4"
  }
 },
 "nbformat": 4,
 "nbformat_minor": 2
}
